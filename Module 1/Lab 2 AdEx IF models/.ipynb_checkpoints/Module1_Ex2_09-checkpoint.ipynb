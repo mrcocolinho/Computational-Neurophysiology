{
 "cells": [
  {
   "cell_type": "markdown",
   "metadata": {},
   "source": [
    "# Lab Session #2\n",
    "## Computational Neurophysiology [E010620A]\n",
    "### Dept of Electronics and Informatics (VUB) and Dept of Information Technology (UGent)\n",
    "Jorne Laton, Matthias Inghels, Talis Vertriest, Jeroen Van Schependom, Sarah Verhulst"
   ]
  },
  {
   "cell_type": "markdown",
   "metadata": {},
   "source": [
    "<font color=blue>Student names and IDs:</font> Constantijn Coppers\n",
    "<br>\n",
    "<font color=blue>Academic Year:</font> 2023-2024"
   ]
  },
  {
   "cell_type": "markdown",
   "metadata": {},
   "source": [
    "### General Introduction\n",
    "In all the practical sessions of this course we will use python 3 and jupyter notebooks. Please install anaconda on your computer and after installation you can open jupyter notebook by typing \"jupyter notebook\" in the command line. Your browser will open a search directory, which you can use to browse to and open the exercise. Alternatively, you can use jupyter-lab. \n",
    "\n",
    "Deadline: 2 weeks after lecture\n",
    "\n",
    "The lab sessions consist of a jupyter notebook in which the different steps are described and explained, together with the tasks that students are asked to complete.\n",
    "\n",
    "This practical is based upon the freely available python exercise: https://neuronaldynamics-exercises.readthedocs.io/en/latest/exercises/adex-model.html"
   ]
  },
  {
   "cell_type": "markdown",
   "metadata": {},
   "source": [
    "### Context and Goals\n",
    "This second lab session is focused on the Adaptive Exponential Integrate-and-Fire model. The students are asked to implement the equations as seen in the lecture (and repeated here) and describe what they see in different simulations. \n",
    "\n",
    "Whereas most of coding can be done without the BRIAN package, it can be a useful tool to check your own results. "
   ]
  },
  {
   "cell_type": "markdown",
   "metadata": {},
   "source": [
    "# Questions\n",
    "## 1 AdEx Integrate-and-Fire model\n",
    "\n",
    "In this first part, we will code and develop the Adaptive exponential integrate-and-fire model, without the use of the BRIAN library. To complete this task, start from the theoretical chapter https://neuronaldynamics.epfl.ch/online/Ch6.S1.html and the following equations:\n",
    "\n",
    "\\begin{align*}\n",
    "    \\tau_m \\frac{\\textrm{d}u}{\\textrm{d}t} &= -(u-u_{\\textrm{rest}}) + \\Delta_T \\exp\\left(\\frac{u-\\theta_{\\textrm{rh}}}{\\Delta_T}\\right) -R w + RI(t) \\\\\n",
    "    \\tau_w \\frac{\\textrm{d}w}{\\textrm{d}t} &= a(u-u_{\\textrm{rest}}) - w + b\\tau_w \\sum_{t^f} \\delta(t-t^f)\n",
    "\\end{align*}"
   ]
  },
  {
   "cell_type": "markdown",
   "metadata": {},
   "source": [
    "The following constants can be used for the model parameters. Note that the BRIAN package uses units. Whereas this is not required for your own coding, make sure that the units match!\n",
    "\n",
    "* [Import these modules](#P1_import)"
   ]
  },
  {
   "cell_type": "code",
   "execution_count": null,
   "metadata": {},
   "outputs": [],
   "source": [
    "# For your own code, use the following variable names. They do not need a unit to be attached as for the BRIAN package.\n",
    "\n",
    "# tau_m\n",
    "# R_m\n",
    "# u_rest\n",
    "# u_reset\n",
    "# v_rheobase\n",
    "# delta_T\n",
    "# a\n",
    "# tau_w\n",
    "# b"
   ]
  },
  {
   "cell_type": "markdown",
   "metadata": {
    "tags": []
   },
   "source": [
    "### Q1 Generate input current <a id=\"Q1\"/>\n",
    "Q1a The first step is to generate the input current I(t). For this we create a step function of length 370 ms. The input current is 0 µA at t = 0 and steps to 1 µA at t = 20ms. The input current is reset to 0 µA at t = 200ms. \n",
    "Create and plot I_input in function of t and make sure that the time step is 0.01 ms. This timestep corresponds to the integration step when we will solve the differential equations and can remain constant for the purpose of this practical.\n",
    "\n",
    "Q1b Create a function that outputs u(t), w(t), DeltaU(t) and DeltaW(t) in function of the initial values of u and w (u_0,w_0) and the input current I_input(t). Please also print the time point whenever an action potential is being fired.\n",
    "\n",
    "Q1c Test this function with the input current that you have defined previously but with an amplitude of 68 µA and create five plots below each other:\n",
    "- I(t)\n",
    "- u(t)\n",
    "- w(t)\n",
    "- DeltaU(t)\n",
    "- DeltaW(t)\n",
    "\n",
    "The initial value of u is u_rest (-70 mV), the inital value of w can be set to zero.\n",
    "\n",
    "Q1d Describe the evolution between subsequent action potentials. Plot the evolution of these intervals. What do you notice?\n",
    "\n",
    "* [Fill in answer here](#A1)"
   ]
  },
  {
   "cell_type": "markdown",
   "metadata": {},
   "source": [
    "## 2 BRIAN Library - I&F models"
   ]
  },
  {
   "cell_type": "markdown",
   "metadata": {},
   "source": [
    "Here we will implement the non-adaptive and adaptive exponential integrate-and-fire model through the BRIAN package. \n",
    "\n",
    "First things first, the non-adaptive I&F model: \n",
    "- Again we need to create an input current. Within the BRIAN package the same input profile as before can be easily calculated with the `input_factory.get_step_current()` function\n",
    "- Next, we need to simulate the model. This can be done through the `exp_IF()` function. Which are the default values of this model? \n",
    "- Finally, we plot our output with the `plot_tools.plot_voltage_and_current_traces()` tool. "
   ]
  },
  {
   "cell_type": "markdown",
   "metadata": {},
   "source": [
    "### Q2.1 Exponential Integrate and Fire <a id=\"Q2.1\"/>\n",
    "\n",
    "Apply the suggested functions to simulate the behaviour of a firing neuron when the exponential integrate and fire model is used.\n",
    "1. Apply a step input current of amplitude 0.9 nA that starts at t = 20 ms and ends at t = 150 ms\n",
    "2. Simulate what happens for 200 ms\n",
    "\n",
    "How many spikes do you get?\n",
    "\n",
    "* [Fill in answer here](#A2.1)"
   ]
  },
  {
   "cell_type": "markdown",
   "metadata": {},
   "source": [
    "### Q2.2  Adaptive Exponential I&F - BRIAN <a id=\"Q2.2\"/>\n",
    "What happens when you substitute the non-adaptive by the adaptive exponential model? You can use the `simulate_AdEx_neuron` function. \n",
    "\n",
    "1. Apply an input current of amplitude 90 pA that starts at t = 50 ms and ends at t = 150 ms.\n",
    "2. Simulate what happens for 350 ms using `simulate_AdEx_neuron`\n",
    "\n",
    "How many spikes are you getting now?\n",
    "\n",
    "* [Fill in answer here](#A2.2)"
   ]
  },
  {
   "cell_type": "markdown",
   "metadata": {},
   "source": [
    "### Q2.3 Characteristics <a id=\"Q2.3\"/>\n",
    "Which are the characteristics of the AdEx model? How many spikes do you observe? Describe the firing pattern.\n",
    "\n",
    "* [Fill in answer here](#A2.3)"
   ]
  },
  {
   "cell_type": "markdown",
   "metadata": {},
   "source": [
    "## 3 Firing Pattern"
   ]
  },
  {
   "cell_type": "markdown",
   "metadata": {},
   "source": [
    "### Q3 Simulate all patterns <a id=\"Q3\"/>\n",
    "\n",
    "By changing the parameters in the function `AdEx.simulate_AdEx_neuron()`, you can simulate different firing patterns. Create tonic, adapting, initial burst, bursting, irregular, transient and delayed firing patterns. Table 6.1 provides a starting point.\n",
    "\n",
    "Simulate your model for 350 ms and use a step current of 67 pA starting at t = 50 to t = 250.\n",
    "\n",
    "* [Fill in answer here](#A3)"
   ]
  },
  {
   "cell_type": "markdown",
   "metadata": {},
   "source": [
    "## 4 Phase plane and Nullclines\n",
    "In this section, you will acquire some intuition on shape of nullclines by plotting and answering the following questions.\n",
    "\n",
    "* [Import these modules](#P4_import)"
   ]
  },
  {
   "cell_type": "markdown",
   "metadata": {},
   "source": [
    "### Q4.1 Run AdEx <a id=\"Q4.1\"/>\n",
    "Plot the u and w nullclines of the AdEx model \n",
    "1. How do the nullclines change with respect to a?\n",
    "2. How do the nullclines change if a constant current I(t) = c is applied?\n",
    "3. What is the interpretation of parameter b?\n",
    "4. How do flow arrows change as tau_w gets bigger?\n",
    "\n",
    "For this plot, you won't need the BRIAN library, but you can use functions that are available through numpy. You will need to create a grid of $u,w$ values through np.meshgrid. Next, for each point of this grid, you will have to evaluate the time-derivative (Formulas 6.3 and 6.4). Finally, you will have to calculate the null-clines and plot everything together on a single plot. For the plotting of the arrows, you can have a look at the np.quiver function.\n",
    "\n",
    "* [Fill in answer here](#A4.1)"
   ]
  },
  {
   "cell_type": "markdown",
   "metadata": {},
   "source": [
    "### Q4.2 Predict firing pattern <a id=\"Q4.2\">\n",
    "\n",
    "Can you predict what would be the firing pattern if the value 'a' is small (in the order of 0.01 nS) ? To do so, consider the following 2 conditions:\n",
    "\n",
    "A large jump b and a large time scale tau_w.\n",
    "A small jump b and a small time scale tau_w.\n",
    "Try to simulate the above conditions, to see if your predictions were correct.\n",
    "    \n",
    "* [Fill in answer here](#A4.2)"
   ]
  },
  {
   "cell_type": "markdown",
   "metadata": {
    "tags": []
   },
   "source": [
    "# Answers"
   ]
  },
  {
   "cell_type": "markdown",
   "metadata": {
    "tags": []
   },
   "source": [
    "## 1 AdEx Integrate-and-Fire model"
   ]
  },
  {
   "cell_type": "markdown",
   "metadata": {
    "tags": []
   },
   "source": [
    "### Import <a id=\"P1_import\"/>"
   ]
  },
  {
   "cell_type": "code",
   "execution_count": null,
   "metadata": {},
   "outputs": [],
   "source": [
    "# Here add all the libraries and modules that are needed throughout the notebook\n",
    "import math\n",
    "import numpy as np\n",
    "import matplotlib.pyplot as plt\n",
    "import brian2 as b2\n",
    "# Make your graphs color blind friendly\n",
    "plt.style.use('tableau-colorblind10')"
   ]
  },
  {
   "cell_type": "markdown",
   "metadata": {
    "tags": []
   },
   "source": [
    "### A1 Generate input current <a id=\"A1\"/>\n",
    "* [Go back to Q1](#Q1)"
   ]
  },
  {
   "cell_type": "code",
   "execution_count": null,
   "metadata": {},
   "outputs": [],
   "source": [
    "# Enter your code below\n",
    "\n",
    "#######################\n",
    "##   Q1a solution   ##\n",
    "#######################\n"
   ]
  },
  {
   "cell_type": "code",
   "execution_count": null,
   "metadata": {},
   "outputs": [],
   "source": [
    "# Enter your code below\n",
    "\n",
    "# Hint: be careful with the units, R_m in GOhm!\n",
    "\n",
    "#######################\n",
    "##   Q1b solution   ##\n",
    "#######################\n",
    "\n",
    "def adex(u_0, w_0, I_input):\n",
    " \n",
    "    return u, w, delta_us, delta_ws, spike_times"
   ]
  },
  {
   "cell_type": "code",
   "execution_count": null,
   "metadata": {},
   "outputs": [],
   "source": [
    "# Enter your code below\n",
    "\n",
    "#############################\n",
    "##   Q1c solution plots   ##\n",
    "#############################\n"
   ]
  },
  {
   "cell_type": "code",
   "execution_count": null,
   "metadata": {
    "scrolled": true
   },
   "outputs": [],
   "source": [
    "# Enter your answer below\n",
    "\n",
    "###########################\n",
    "##   Q1d solution ISI   ##\n",
    "###########################\n"
   ]
  },
  {
   "cell_type": "markdown",
   "metadata": {},
   "source": [
    "<div class=\"alert alert-success\">\n",
    "<span style=\"color:black\">\n",
    "\n",
    "**A1 conclusion:** \n",
    "\n",
    "\\begin{tcolorbox}[colback=green!5]\n",
    "    \n",
    "Your answer here\n",
    "    \n",
    "\\end{tcolorbox}\n",
    "    \n",
    "</span>"
   ]
  },
  {
   "cell_type": "markdown",
   "metadata": {},
   "source": [
    "## 2 BRIAN Library - I&F models"
   ]
  },
  {
   "cell_type": "markdown",
   "metadata": {
    "tags": []
   },
   "source": [
    "### Import"
   ]
  },
  {
   "cell_type": "code",
   "execution_count": null,
   "metadata": {},
   "outputs": [],
   "source": [
    "%matplotlib inline\n",
    "import brian2 as b2\n",
    "import neurodynex3.exponential_integrate_fire.exp_IF as exp_IF\n",
    "from neurodynex3.tools import plot_tools, input_factory\n",
    "from neurodynex3.adex_model import AdEx"
   ]
  },
  {
   "cell_type": "markdown",
   "metadata": {},
   "source": [
    "### A2.1 Exponential Integrate and Fire <a id=\"A2.1\"/>\n",
    "* [Go back to Q2.1](#Q2.1)"
   ]
  },
  {
   "cell_type": "code",
   "execution_count": null,
   "metadata": {},
   "outputs": [],
   "source": [
    "#insert your code here: \n",
    "\n",
    "######################\n",
    "##   Q2.1 solution  ##\n",
    "######################\n"
   ]
  },
  {
   "cell_type": "markdown",
   "metadata": {},
   "source": [
    "<div class=\"alert alert-success\">\n",
    "<span style=\"color:black\">\n",
    "\n",
    "**A2.1 conclusion:** \n",
    "    \n",
    "\\begin{tcolorbox}[colback=green!5]\n",
    "    \n",
    "Your answer here\n",
    "    \n",
    "\\end{tcolorbox}\n",
    "    \n",
    "</span>"
   ]
  },
  {
   "cell_type": "markdown",
   "metadata": {},
   "source": [
    "### A2.2 Adaptive Exponential I&F - BRIAN <a id=\"A2.2\"/>\n",
    "* [Go back to Q2.2](#Q2.2)"
   ]
  },
  {
   "cell_type": "code",
   "execution_count": null,
   "metadata": {},
   "outputs": [],
   "source": [
    "from neurodynex3.adex_model import AdEx\n",
    "from neurodynex3.tools import plot_tools, input_factory\n",
    "\n",
    "# Enter your code here\n",
    "\n",
    "######################\n",
    "##   Q2.2 solution  ##\n",
    "######################\n"
   ]
  },
  {
   "cell_type": "markdown",
   "metadata": {},
   "source": [
    "### A2.3 Characteristics <a id=\"A2.3\"/>\n",
    "* [Go back to Q2.3](#Q2.3)"
   ]
  },
  {
   "cell_type": "code",
   "execution_count": null,
   "metadata": {},
   "outputs": [],
   "source": [
    "# Enter your answer here\n",
    "\n",
    "######################\n",
    "##   Q2.3 solution  ##\n",
    "######################\n"
   ]
  },
  {
   "cell_type": "markdown",
   "metadata": {},
   "source": [
    "<div class=\"alert alert-success\">\n",
    "<span style=\"color:black\">\n",
    "\n",
    "**A2.2 and A2.3 answer:** \n",
    "    \n",
    "\\begin{tcolorbox}[colback=green!5]\n",
    "    \n",
    "Your answer here\n",
    "    \n",
    "\\end{tcolorbox}\n",
    "    \n",
    "</span>"
   ]
  },
  {
   "cell_type": "markdown",
   "metadata": {},
   "source": [
    "## 3 Firing Pattern"
   ]
  },
  {
   "cell_type": "markdown",
   "metadata": {},
   "source": [
    "### A3 Simulate all patterns <a id=\"A3\"/>\n",
    "* [Go back to Q3](#Q3)"
   ]
  },
  {
   "cell_type": "code",
   "execution_count": null,
   "metadata": {},
   "outputs": [],
   "source": [
    "# Enter your code below\n",
    "\n",
    "####################\n",
    "##   Q3 solution  ##\n",
    "####################\n",
    "\n",
    "#Tonic\n"
   ]
  },
  {
   "cell_type": "code",
   "execution_count": null,
   "metadata": {},
   "outputs": [],
   "source": [
    "#Adapting\n"
   ]
  },
  {
   "cell_type": "code",
   "execution_count": null,
   "metadata": {},
   "outputs": [],
   "source": [
    "#Initial burst\n"
   ]
  },
  {
   "cell_type": "code",
   "execution_count": null,
   "metadata": {},
   "outputs": [],
   "source": [
    "#Bursting\n"
   ]
  },
  {
   "cell_type": "code",
   "execution_count": null,
   "metadata": {},
   "outputs": [],
   "source": [
    "#Irregular\n"
   ]
  },
  {
   "cell_type": "code",
   "execution_count": null,
   "metadata": {},
   "outputs": [],
   "source": [
    "#Transient\n"
   ]
  },
  {
   "cell_type": "code",
   "execution_count": null,
   "metadata": {},
   "outputs": [],
   "source": [
    "#Delayed\n"
   ]
  },
  {
   "cell_type": "markdown",
   "metadata": {},
   "source": [
    "## 4 Phase plane and Nullclines"
   ]
  },
  {
   "cell_type": "markdown",
   "metadata": {},
   "source": [
    "### Import <a id=\"P4_import\"/>"
   ]
  },
  {
   "cell_type": "code",
   "execution_count": null,
   "metadata": {},
   "outputs": [],
   "source": [
    "%matplotlib inline\n",
    "import brian2 as b2\n",
    "from neurodynex3.adex_model import AdEx\n",
    "from neurodynex3.tools import plot_tools, input_factory"
   ]
  },
  {
   "cell_type": "markdown",
   "metadata": {
    "tags": []
   },
   "source": [
    "### A4.1 Run AdEx <a id=\"A4.1\"/>\n",
    "* [Go back to Q4.1](#Q4.1)"
   ]
  },
  {
   "cell_type": "code",
   "execution_count": null,
   "metadata": {},
   "outputs": [],
   "source": [
    "# Enter your code here: \n",
    "\n",
    "####################\n",
    "##   Q4.1a solution  ##\n",
    "####################\n"
   ]
  },
  {
   "cell_type": "code",
   "execution_count": null,
   "metadata": {},
   "outputs": [],
   "source": [
    "# Enter your code here\n",
    "\n",
    "###############################\n",
    "##   Q4.1b solution nullclines  ##\n",
    "###############################\n"
   ]
  },
  {
   "cell_type": "markdown",
   "metadata": {},
   "source": [
    "<div class=\"alert alert-success\">\n",
    "<span style=\"color:black\">\n",
    "\n",
    "**4.1 Answer:** \n",
    "    \n",
    "\\begin{tcolorbox}[colback=green!5]\n",
    "    \n",
    "Your answer here\n",
    "    \n",
    "\\end{tcolorbox}\n",
    "    \n",
    "</span>"
   ]
  },
  {
   "cell_type": "markdown",
   "metadata": {},
   "source": [
    "### A4.2 Predict firing pattern <a id=\"A4.2\">\n",
    "* [Go back to Q4.2](#Q4.2)"
   ]
  },
  {
   "cell_type": "code",
   "execution_count": null,
   "metadata": {},
   "outputs": [],
   "source": [
    "# Enter your code here\n",
    "\n",
    "#################################\n",
    "##   Q4.2 solution nullclines  ##\n",
    "#################################\n"
   ]
  },
  {
   "cell_type": "markdown",
   "metadata": {},
   "source": [
    "<div class=\"alert alert-success\">\n",
    "<span style=\"color:black\">\n",
    "\n",
    "**4.2 Answer:** \n",
    "\n",
    "\\begin{tcolorbox}[colback=green!5]\n",
    "    \n",
    "Your answer here\n",
    "    \n",
    "\\end{tcolorbox}\n",
    "    \n",
    "</span>"
   ]
  }
 ],
 "metadata": {
  "kernelspec": {
   "display_name": "Python 3 (ipykernel)",
   "language": "python",
   "name": "python3"
  },
  "language_info": {
   "codemirror_mode": {
    "name": "ipython",
    "version": 3
   },
   "file_extension": ".py",
   "mimetype": "text/x-python",
   "name": "python",
   "nbconvert_exporter": "python",
   "pygments_lexer": "ipython3",
   "version": "3.8.18"
  }
 },
 "nbformat": 4,
 "nbformat_minor": 4
}
